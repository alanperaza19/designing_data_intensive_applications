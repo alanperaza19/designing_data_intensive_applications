{
 "cells": [
  {
   "cell_type": "markdown",
   "metadata": {},
   "source": [
    "# Designing Data-Intensive Applications\n",
    "### Part 2"
   ]
  },
  {
   "cell_type": "markdown",
   "metadata": {},
   "source": [
    "### Chapter 2: Data Models and Query Languages"
   ]
  },
  {
   "cell_type": "markdown",
   "metadata": {},
   "source": [
    "1. Why were RDMS created in the beginning? What are their purpose nowadays?\n",
    "\n",
    "\n",
    "Originally, RDMS were created for the purpose of handling banking transactions, as well as batch processing and airline flight reservations.\n",
    "\n",
    "Now, they are everywhere: social networks, e-commerce, video games, etc. Sites where a person needs to register, have databases to manage that information."
   ]
  },
  {
   "cell_type": "markdown",
   "metadata": {},
   "source": [
    "2. What kind of needs/requirements leaded to the creation of NoSQL databases?\n",
    "\n",
    "Mainly, the need for scalability that relational databases themselves handle with great difficulty.\n",
    "\n",
    "Specialized query operations that were not under the relational model.\n",
    "\n",
    "Widespread frustration with the \"limitations\" of relational databases.\n",
    "\n",
    "Not so important, but a taste for open source."
   ]
  },
  {
   "cell_type": "markdown",
   "metadata": {},
   "source": [
    "3. How is hierarchy expressed in document models?\n",
    "\n",
    "The document databases returned to the hierarchical model in one respect: the storage of nested records (one-to-many relationships, such as positions, education, and contact_info) within their parent record rather than in a separate table."
   ]
  },
  {
   "cell_type": "markdown",
   "metadata": {},
   "source": [
    "4. Are document and relational databases different? How?\n",
    "\n",
    "Fundamentally, relational databases and document databases are similar: in both cases, the related element is referenced by a ***unique identifier***, which is called *foreign key* in the **relational model** and *document reference* in the **document model.**"
   ]
  },
  {
   "cell_type": "markdown",
   "metadata": {},
   "source": [
    "5. What is a impedance mismatch?\n",
    "\n",
    "This happens when the application is programmed under the object oriented programming paradigm:\n",
    " \n",
    "If data is stored in relational databases (Tables), a complex translation is required between the objects of the code of the application that was created and the model of the relational database. This \"disconnect\" between the OOP and SQL models is called an impedance mismatch."
   ]
  },
  {
   "cell_type": "markdown",
   "metadata": {},
   "source": [
    "6. Is there a difference between denormalized databases and normalized databases?\n",
    "\n",
    "A database in which entities are represented by an ID (such as the country, regions, etc.) is called a **normalized** database.\n",
    "\n",
    "A database that duplicates the names and properties of the entities in each document is called a **denormalized** database."
   ]
  },
  {
   "cell_type": "markdown",
   "metadata": {},
   "source": [
    "7. What is MapReduce querying? \n",
    "\n",
    "The query logic is expressed with code snippets, which are called up repeatedly by the processing framework. It is based on the mapping and reduction functions that exist in many functional programming languages."
   ]
  },
  {
   "cell_type": "markdown",
   "metadata": {},
   "source": [
    "8. of the three models (document, relational, graph), which can easily adapt to changing requirements?\n",
    "\n",
    "One of the advantages of the document and graph models is that they typically do not force a shema for the data they store although the structure or representation of data may vary according to the model."
   ]
  },
  {
   "cell_type": "markdown",
   "metadata": {},
   "source": [
    "9. Explain how CODASYL query was performed:\n",
    "\n",
    "Moving a cursor through the database by iterating over lists of records and following access paths. If a record had multiple parents, the application code had to keep track of all the various relationships."
   ]
  },
  {
   "cell_type": "markdown",
   "metadata": {},
   "source": [
    "10. What is the main difference between hierarchical-network-model and relational-database-model?\n",
    "\n",
    "Hierarchical model organizes data in a tree-like structure while relational database model organizes data in tables."
   ]
  },
  {
   "cell_type": "code",
   "execution_count": null,
   "metadata": {},
   "outputs": [],
   "source": []
  }
 ],
 "metadata": {
  "kernelspec": {
   "display_name": "Python 3",
   "language": "python",
   "name": "python3"
  },
  "language_info": {
   "codemirror_mode": {
    "name": "ipython",
    "version": 3
   },
   "file_extension": ".py",
   "mimetype": "text/x-python",
   "name": "python",
   "nbconvert_exporter": "python",
   "pygments_lexer": "ipython3",
   "version": "3.7.4"
  }
 },
 "nbformat": 4,
 "nbformat_minor": 2
}
