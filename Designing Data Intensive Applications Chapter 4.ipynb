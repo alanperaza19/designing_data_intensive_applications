{
 "cells": [
  {
   "cell_type": "markdown",
   "metadata": {},
   "source": [
    "# Chapter 4: Encoding and Evolution"
   ]
  },
  {
   "cell_type": "markdown",
   "metadata": {},
   "source": [
    "1. What are the two ways in which programs work with data?\n",
    "\n",
    "\n",
    "* In memory, data is kept in objects, structs, lists, arrays, hash tables, trees, and so on. These data structures are optimized for efficient access and manipulation by the CPU (typically using pointers)\n",
    "\n",
    "\n",
    "* When you want to write data to a file or send it over the network, you have to encode it as some kind of self-contained sequence of bytes (for example, a JSON document)."
   ]
  },
  {
   "cell_type": "markdown",
   "metadata": {},
   "source": [
    "2. The schema flexibility can be assisted by encoded data. Explain how:\n",
    "    \n",
    "Encoded data handle schema changes and support systems where both old and new data and code need to coexist."
   ]
  },
  {
   "cell_type": "markdown",
   "metadata": {},
   "source": [
    "3. Explain some of the problems when using encoding libraries.\n",
    "\n",
    "\n",
    "* The encoding is often tied to a particular programming language, and reading the data in another language is very difficult.\n",
    "\n",
    "* Efficiency (CPU time taken to encode or decode, and the size of the encoded structure)."
   ]
  },
  {
   "cell_type": "markdown",
   "metadata": {},
   "source": [
    "4. Explain what is the **shared-disk architecture approach:**\n",
    "\n",
    "It is an approach that uses several machines with independent CPUs and RAM, but stores data on an array of disks that is shared among the machines.\n",
    "\n",
    "Such machines are connected via a fast network."
   ]
  },
  {
   "cell_type": "markdown",
   "metadata": {},
   "source": [
    "5. What is serialization? \n",
    "\n",
    "The process of transliteration between these two formats is known as serialization, encoding, or marshalling. A specific format is a data serialization format"
   ]
  },
  {
   "cell_type": "markdown",
   "metadata": {},
   "source": [
    "6. Summarize the two ways of distributing data across multiple nodes:\n",
    "\n",
    "\n",
    "* Replication: keeping a copy of the same data on several different nodes, potentially in different locations. Replication provides redundancy: if some nodes are unavailable, the data can still be served from the remaining nodes. \n",
    "\n",
    "\n",
    "* Partitioning or sharding: splitting a big database into smaller subsets called partitions, so that different partitions can be assigned to different nodes."
   ]
  },
  {
   "cell_type": "markdown",
   "metadata": {},
   "source": [
    "7. What is REST?\n",
    "\n",
    "EST is not a protocol, but rather a design philosophy that builds upon the principles of HTTP. It emphasizes simple data formats, using URLs for identifying resources and using HTTP features for cache control, authentication, and content type negotiation. REST has been gaining popularity compared to SOAP, at least in the context of cross-organizational service integration, and is often associated with microservices. An API designed according to the principles of REST is called RESTful."
   ]
  },
  {
   "cell_type": "markdown",
   "metadata": {},
   "source": [
    "8. What is SOAP?\n",
    "\n",
    "SOAP is an XML-based protocol for making network API requests. Although it is most commonly used over HTTP, it aims to be independent from HTTP and avoids using most HTTP features. Instead, it comes with a sprawling and complex multitude of related standards (the web service framework, known as WS-*) that add various features. The API of a SOAP web service is described using an XML-based language called the Web Services Description Language, or WSDL. WSDL enables code generation so that a client can access a remote service using local classes and method calls (which are encoded to XML messages and decoded again by the framework)."
   ]
  },
  {
   "cell_type": "markdown",
   "metadata": {},
   "source": [
    "9. What is the main difference between synchronous replication and the asynchronous one?\n",
    "\n",
    "When replication is synchronous, the leader waits until followers have confirmed that they received the write before reporting success to the user. When the leader sends the message, but doesn’t wait for a response from the follower is asynchronous replication"
   ]
  },
  {
   "cell_type": "markdown",
   "metadata": {},
   "source": [
    "10. What's Data Flow and which are its types?\n",
    "\n",
    "Data flow is how data flows through your system. It involves thinking about data usage patterns, application boundaries, and similar such things.\n",
    "\n",
    "Its types are:\n",
    "\n",
    "* Databases\n",
    "\n",
    "* Service Communication\n",
    "\n",
    "* Message Bus Pattern"
   ]
  }
 ],
 "metadata": {
  "kernelspec": {
   "display_name": "Python 3",
   "language": "python",
   "name": "python3"
  },
  "language_info": {
   "codemirror_mode": {
    "name": "ipython",
    "version": 3
   },
   "file_extension": ".py",
   "mimetype": "text/x-python",
   "name": "python",
   "nbconvert_exporter": "python",
   "pygments_lexer": "ipython3",
   "version": "3.7.4"
  }
 },
 "nbformat": 4,
 "nbformat_minor": 2
}
