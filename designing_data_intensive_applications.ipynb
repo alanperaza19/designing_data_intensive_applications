{
 "cells": [
  {
   "cell_type": "markdown",
   "metadata": {},
   "source": [
    "# Designing Data Intensive Applications\n",
    "This is a questionary from the first chapter. Go check the book [here](https://www.amazon.com.mx/Designing-Data-Intensive-Applications-Reliable-Maintainable/dp/1449373321).\n",
    "\n",
    "This questionary was made by [alanperaza19](https://github.com/alanperaza19)."
   ]
  },
  {
   "cell_type": "markdown",
   "metadata": {},
   "source": [
    "1. **According to the book, a software system must contain 3 main components, which ones are we talking about? Give a brief explanation for each one.**\n",
    "\n",
    "A:\n",
    "\n",
    "* Reliability: To perform the correct function at the desired level of performance even in the face of adversity.\n",
    "\n",
    "* Scalability: Reasonable ways/methods to deal with the system growth (in volumes of data, traffic volume, complexity).\n",
    "\n",
    "* Maintainability: Ability from the system to be used productively by different people over time."
   ]
  },
  {
   "cell_type": "markdown",
   "metadata": {},
   "source": [
    "2. **When we refer a software as *reliable,* what kind of functions do we expect from it?**\n",
    "\n",
    "A: Answers may vary. Answer is correct if 2 of these are mentioned:\n",
    "\n",
    "* The application performs the function that the user expected.\n",
    "\n",
    "* The system prevents any unauthorized access and abuse.\n",
    "\n",
    "* It can tolerate the user making mistakes, or using the software in unexpected ways.\n",
    "\n",
    "* Its performance is good enough for the required use case, under expected load and data volume."
   ]
  },
  {
   "cell_type": "markdown",
   "metadata": {},
   "source": [
    "3. **Is there any difference between *fault* and *failure*? If so, describe it**.\n",
    "\n",
    "A: Quick answer: Yes. (But the following information must be provided).\n",
    "\n",
    "* A *fault* is usually defined as one component of the system deviating from its specification.\n",
    "\n",
    "* *Failure* is when the system as a whole stops providing the required service to the user."
   ]
  },
  {
   "cell_type": "markdown",
   "metadata": {},
   "source": [
    "4. **When designing a program, which kind of errors do we need to focus on?**\n",
    "\n",
    "A: To human errors."
   ]
  },
  {
   "cell_type": "markdown",
   "metadata": {},
   "source": [
    "5. **Describe the term *scalability* and its importance**\n",
    "\n",
    "A: Scalability is the term we use to describe a system’s ability to cope with increased load. Note, however, that it is not a one-dimensional label that we can attach to a system: it is meaningless to say “X is scalable” or “Y doesn’t scale.” Rather, discussing scalability means considering questions like “If the system grows in a particular way, what are our options for coping with the growth?” and “How can we add computing resources to handle the additional load?”"
   ]
  },
  {
   "cell_type": "markdown",
   "metadata": {},
   "source": [
    "6. **For which operations are a *good operations team* responsible for?**\n",
    "\n",
    "A: Answers may vary. It is enough for the student to answer 3 of the following.\n",
    "\n",
    "* Monitoring the health of the system and quickly restoring service if it goes into a bad state\n",
    "\n",
    "* Tracking down the cause of problems, such as system failures or degraded performance\n",
    "\n",
    "* Keeping software and platforms up to date, including security patches\n",
    "\n",
    "* Keeping tabs on how different systems affect each other, so that a problematic change can be avoided before it causes damage\n",
    "\n",
    "* Anticipating future problems and solving them before they occur (e.g., capacity planning)\n",
    "\n",
    "* Establishing good practices and tools for deployment, configuration management, and more\n",
    "\n",
    "* Performing complex maintenance tasks, such as moving an application from one platform to another\n",
    "\n",
    "* Maintaining the security of the system as configuration changes are made\n",
    "\n",
    "* Defining processes that make operations predictable and help keep the production environment stable\n",
    "\n",
    "* Preserving the organization’s knowledge about the system, even as individual people come and go"
   ]
  },
  {
   "cell_type": "markdown",
   "metadata": {},
   "source": [
    "7. **What is an *elastic* system?**\n",
    "\n",
    "A:  they can automatically add computing resources when they detect a load increase, whereas other systems are scaled manually (a human analyzes the capacity and decides to add more machines to the system). An elastic system can be useful if load is highly unpredictable, but manually scaled systems are simpler and may have fewer operational surprises."
   ]
  },
  {
   "cell_type": "markdown",
   "metadata": {},
   "source": [
    "8. **Which are the three design principles for software systems? Describe each one.**\n",
    "\n",
    "A: \n",
    "\n",
    "* Operability: Make it easy for operations teams to keep the system running smoothly.\n",
    "\n",
    "* Simplicity: Make it easy for new engineers to understand the system, by removing as much complexity as possible from the system.\n",
    "\n",
    "* Make it easy for engineers to make changes to the system in the future, adapting it for unanticipated use cases as requirements change. Also known as extensibility, modifiability, or plasticity."
   ]
  },
  {
   "cell_type": "markdown",
   "metadata": {},
   "source": [
    "9. **What things can Data Systems do to make routine tasks easier?**\n",
    "\n",
    "A: Student must mention at least 2 of the following.\n",
    "\n",
    "* Providing visibility into the runtime behavior and internals of the system, with good monitoring.\n",
    "\n",
    "* Providing good support for automation and integration with standard tools.\n",
    "\n",
    "* Avoiding dependency on individual machines (allowing machines to be taken down for maintenance while the system as a whole continues running uninterrupted)\n",
    "\n",
    "* Providing good documentation and an easy-to-understand operational model (“If I do X, Y will happen”).\n",
    "\n",
    "* Providing good default behavior, but also giving administrators the freedom to override defaults when needed.\n",
    "\n",
    "* Self-healing where appropriate, but also giving administrators manual control over the system state when needed\n",
    "\n",
    "* Exhibiting predictable behavior, minimizing surprises"
   ]
  },
  {
   "cell_type": "markdown",
   "metadata": {},
   "source": [
    "10. **Are *Latency* and *response time* the same? Why?**\n",
    "\n",
    "A: Latency and response time are often used synonymously, but they are not the same. The response time is what the client sees: besides the actual time to process the request (the service time), it includes network delays and queueing delays. Latency is the duration that a request is waiting to be handled—during which it is latent, awaiting service."
   ]
  },
  {
   "cell_type": "code",
   "execution_count": null,
   "metadata": {},
   "outputs": [],
   "source": []
  }
 ],
 "metadata": {
  "kernelspec": {
   "display_name": "Python 3",
   "language": "python",
   "name": "python3"
  },
  "language_info": {
   "codemirror_mode": {
    "name": "ipython",
    "version": 3
   },
   "file_extension": ".py",
   "mimetype": "text/x-python",
   "name": "python",
   "nbconvert_exporter": "python",
   "pygments_lexer": "ipython3",
   "version": "3.7.4"
  }
 },
 "nbformat": 4,
 "nbformat_minor": 2
}
