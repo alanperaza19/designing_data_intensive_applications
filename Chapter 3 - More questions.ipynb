{
 "cells": [
  {
   "cell_type": "markdown",
   "metadata": {},
   "source": [
    "1. What is an index?\n",
    "\n",
    "An index is an additional structure that is derived from the primary data. Many databases\n",
    "allow you to add and remove indexes, and this doesn’t affect the contents of the\n",
    "database; it only affects the performance of queries."
   ]
  },
  {
   "cell_type": "markdown",
   "metadata": {},
   "source": [
    "2. Name some advantages of  the hash index:\n",
    "\n",
    "• Appending and segment merging are sequential write operations, which are generally\n",
    "much faster than random writes, especially on magnetic spinning-disk\n",
    "hard drives. To some extent sequential writes are also preferable on flash-based\n",
    "solid state drives (SSDs).\n",
    "\n",
    "\n",
    "• Concurrency and crash recovery are much simpler if segment files are appendonly\n",
    "or immutable. For example, you don’t have to worry about the case where a\n",
    "crash happened while a value was being overwritten, leaving you with a file containing\n",
    "part of the old and part of the new value spliced together.\n",
    "\n",
    "\n",
    "• Merging old segments avoids the problem of data files getting fragmented over\n",
    "time."
   ]
  },
  {
   "cell_type": "markdown",
   "metadata": {},
   "source": [
    "3. Are there any disadvantages of hash index?\n",
    "\n",
    "• The hash table must fit in memory, so if you have a very large number of keys,\n",
    "you’re out of luck. In principle, you could maintain a hash map on disk, but\n",
    "unfortunately it is difficult to make an on-disk hash map perform well. It\n",
    "requires a lot of random access I/O, it is expensive to grow when it becomes full,\n",
    "and hash collisions require fiddly logic.\n",
    "\n",
    "• Range queries are not efficient. For example, you cannot easily scan over all keys\n",
    "between kitty00000 and kitty99999—you’d have to look up each key individually\n",
    "in the hash maps."
   ]
  },
  {
   "cell_type": "markdown",
   "metadata": {},
   "source": [
    "4. What were the early usages of databases?\n",
    "\n",
    "Databases started being used for many different kinds of data—comments\n",
    "on blog posts, actions in a game, contacts in an address book, etc..."
   ]
  },
  {
   "cell_type": "markdown",
   "metadata": {},
   "source": [
    "5. Define a SSTables and some characteristics of it.\n",
    "\n",
    "The SSTable (Sorted String Table) is a more complex log-structured storage implementation.\n",
    "In SSTables we still have log segments, but their contents are now sorted by key.\n",
    "This design employs a balanced in-memory data structure, in this context referred to as the memtable. The memtable needs to retain key sort order.\n",
    "Every time a write or modify operation occurs, the data is written to the memtable.\n",
    "The memtable is periodically flushed in key order into a new log segment. This is still a sequential write!"
   ]
  },
  {
   "cell_type": "markdown",
   "metadata": {},
   "source": [
    "6. In which two access patterns can databases in production be splitted?\n",
    "OLTP systems (short for online transaction processing) is the original use-case. OLAP, short for online analytics processing, is the new use case.\n",
    "OLAP systems are less creative than OLTP systems in terms of overall design. Almost all applications use some variant of the star schema.\n",
    "In the star schema there is a central table that acts as an access point, which provides foreign keys to a bunch of other tables."
   ]
  }
 ],
 "metadata": {
  "kernelspec": {
   "display_name": "Python 3",
   "language": "python",
   "name": "python3"
  },
  "language_info": {
   "codemirror_mode": {
    "name": "ipython",
    "version": 3
   },
   "file_extension": ".py",
   "mimetype": "text/x-python",
   "name": "python",
   "nbconvert_exporter": "python",
   "pygments_lexer": "ipython3",
   "version": "3.7.4"
  }
 },
 "nbformat": 4,
 "nbformat_minor": 2
}
